{
 "cells": [
  {
   "cell_type": "code",
   "execution_count": 2,
   "id": "60b21bb2",
   "metadata": {},
   "outputs": [],
   "source": [
    "import pandas as pd\n",
    "import genehearing.common.tools as tools\n",
    "import matplotlib.pyplot as plt"
   ]
  },
  {
   "cell_type": "code",
   "execution_count": 4,
   "id": "0317b0b6",
   "metadata": {},
   "outputs": [
    {
     "name": "stdout",
     "output_type": "stream",
     "text": [
      "/home/marysia/Documents/GitHub/GeneHearing\n"
     ]
    }
   ],
   "source": [
    "%cd .."
   ]
  },
  {
   "cell_type": "code",
   "execution_count": 5,
   "id": "ceecd854",
   "metadata": {},
   "outputs": [],
   "source": [
    "config = tools.load_config()"
   ]
  },
  {
   "cell_type": "code",
   "execution_count": 7,
   "id": "e0a70a21",
   "metadata": {},
   "outputs": [],
   "source": [
    "#df = pd.read_csv(\"data/processed/audiometry_tonal_symmetry_v2.csv\")\n",
    "df = pd.read_csv(f\"data/raw/{config['genetic_dataname']}.csv\", sep=\";\")"
   ]
  },
  {
   "cell_type": "code",
   "execution_count": 8,
   "id": "4c33c234",
   "metadata": {},
   "outputs": [
    {
     "name": "stdout",
     "output_type": "stream",
     "text": [
      "    count           Allele_1_hgvs_c           Allele_2_hgvs_c\n",
      "0     765       NM_004004.6:c.35del       NM_004004.6:c.35del\n",
      "1      84      NM_004004.6:c.101T>C       NM_004004.6:c.35del\n",
      "2      79    NM_004004.6:c.-23+1G>A       NM_004004.6:c.35del\n",
      "3      78  NM_004004.6:c.313_326del       NM_004004.6:c.35del\n",
      "4      68      NM_004004.6:c.269T>C       NM_004004.6:c.35del\n",
      "..    ...                       ...                       ...\n",
      "61      1      NM_004004.6:c.139G>T  NM_004004.6:c.313_326del\n",
      "62      1       NM_004004.6:c.35del       NM_004004.6:c.71G>A\n",
      "63      1                      GJB6  NM_004004.6:c.313_326del\n",
      "64      1      NM_004004.6:c.269T>C      NM_004004.6:c.269T>C\n",
      "65      1      NM_004004.6:c.167del      NM_004004.6:c.551G>C\n",
      "\n",
      "[66 rows x 3 columns]\n"
     ]
    }
   ],
   "source": [
    "df.loc[df['Allele1_CNV'].notna() & df['Allele_1_hgvs_c'].isna(), 'Allele_1_hgvs_c'] = 'GJB6'\n",
    "df.loc[df['Allele2_CNV2'].notna() & df['Allel_2_hgvs_c'].isna(), 'Allel_2_hgvs_c'] = 'GJB6'\n",
    "df['Allele_1_hgvs_c'] = df['Allele_1_hgvs_c'].fillna('0').astype(str)\n",
    "df['Allel_2_hgvs_c']  = df['Allel_2_hgvs_c'].fillna('0').astype(str)\n",
    "\n",
    "pairs = df.apply(lambda x: tuple(sorted([x['Allele_1_hgvs_c'], x['Allel_2_hgvs_c']])), axis=1)\n",
    "\n",
    "mytable = pairs.value_counts().reset_index(name='count')\n",
    "mytable[['Allele_1_hgvs_c', 'Allele_2_hgvs_c']] = pd.DataFrame(mytable['index'].tolist(), index=mytable.index)\n",
    "mytable = mytable.drop(columns='index')\n",
    "\n",
    "print(mytable)\n",
    "mytable.to_csv(\"results/pary_zliczone.csv\", sep=';')"
   ]
  },
  {
   "cell_type": "code",
   "execution_count": 9,
   "id": "7bf28b53",
   "metadata": {},
   "outputs": [],
   "source": [
    "#zliczanie ilości alleli\n",
    "allele = pd.concat([df['Allele_1_hgvs_c'], df['Allel_2_hgvs_c']])\n",
    "allele.value_counts().to_csv(\"results/allele_zliczone.csv\", sep=';')"
   ]
  }
 ],
 "metadata": {
  "kernelspec": {
   "display_name": "venv",
   "language": "python",
   "name": "python3"
  },
  "language_info": {
   "codemirror_mode": {
    "name": "ipython",
    "version": 3
   },
   "file_extension": ".py",
   "mimetype": "text/x-python",
   "name": "python",
   "nbconvert_exporter": "python",
   "pygments_lexer": "ipython3",
   "version": "3.12.3"
  }
 },
 "nbformat": 4,
 "nbformat_minor": 5
}
